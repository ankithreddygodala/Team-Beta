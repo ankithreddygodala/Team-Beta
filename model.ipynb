# step 1

import pandas as pd
import matplotlib.pyplot as plt

df = pd.read_csv("merged_file.csv") # your  IQ data file name


df.head()


df = df[["Question", "Option 1", "Option 2", "Option 3", "Option 4", "Correct Answer"]]
df.head()

df.info()

df['Question'].value_counts()

--------------------------------------------------------------

# Step 2: Preprocess the  data
import re

# Remove HTML encodings
def clean_html(text):
    clean = re.compile('<.*?>')
    return re.sub(clean, '', text)

df['Question'] = df['Question'].apply(clean_html)
df['Options'] = df['Options'].apply(clean_html)
df['Correct Answer'] = df['Correct Answer'].apply(clean_html)

# Remove commas and question marks
def remove_punctuation(text):
    return re.sub('[,?]', '', text)

df['Question'] = df['Question'].apply(remove_punctuation)
df['Options'] = df['Options'].apply(remove_punctuation)
df['Correct Answer'] = df['Correct Answer'].apply(remove_punctuation)

# Separate features and target
X = df[['Question', 'Options']]
y = df['Correct Answer']

print(df.columns)

--------------------------------------------------------------


